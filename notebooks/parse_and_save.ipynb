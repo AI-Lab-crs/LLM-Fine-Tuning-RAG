{
 "cells": [
  {
   "cell_type": "markdown",
   "metadata": {},
   "source": [
    "#### Importing modules for parsing\n"
   ]
  },
  {
   "cell_type": "code",
   "execution_count": 1,
   "metadata": {},
   "outputs": [
    {
     "name": "stderr",
     "output_type": "stream",
     "text": [
      "c:\\Users\\Diriba\\Desktop\\10AC\\Week7\\LLM-Fine-Tuning-RAG\\scripts\\util.py:27: SyntaxWarning: invalid escape sequence '\\-'\n",
      "  \"\\-\"\n",
      "c:\\Users\\Diriba\\Desktop\\10AC\\Week7\\LLM-Fine-Tuning-RAG\\scripts\\util.py:28: SyntaxWarning: invalid escape sequence '\\*'\n",
      "  \"\\*\"\n",
      "c:\\Users\\Diriba\\Desktop\\10AC\\Week7\\LLM-Fine-Tuning-RAG\\scripts\\util.py:32: SyntaxWarning: invalid escape sequence '\\_'\n",
      "  \"\\_\"\n"
     ]
    }
   ],
   "source": [
    "import sys, os\n",
    "import pandas as pd\n",
    "sys.path.append(os.path.abspath(os.path.join('../scripts')))\n",
    "from util import Util"
   ]
  },
  {
   "cell_type": "markdown",
   "metadata": {},
   "source": [
    "#### Init Variables"
   ]
  },
  {
   "cell_type": "code",
   "execution_count": 2,
   "metadata": {},
   "outputs": [],
   "source": [
    "raw_dir = \"../data/raw\"\n",
    "parsed_dir = \"../data/parsed\"\n",
    "file_name = \"አዲስ ነገር መረጃ\"\n",
    "util = Util()"
   ]
  },
  {
   "cell_type": "markdown",
   "metadata": {},
   "source": [
    "#### Read the File and parse"
   ]
  },
  {
   "cell_type": "code",
   "execution_count": 3,
   "metadata": {},
   "outputs": [],
   "source": [
    "data = util.read_file(f'{raw_dir}/{file_name}.json')\n",
    "            "
   ]
  },
  {
   "cell_type": "code",
   "execution_count": 4,
   "metadata": {},
   "outputs": [],
   "source": [
    "parsed_message = util.parse_messages(data['messages'])"
   ]
  },
  {
   "cell_type": "markdown",
   "metadata": {},
   "source": [
    "#### Create pandas dataframe from parsed messages"
   ]
  },
  {
   "cell_type": "code",
   "execution_count": 5,
   "metadata": {},
   "outputs": [
    {
     "data": {
      "text/html": [
       "<div>\n",
       "<style scoped>\n",
       "    .dataframe tbody tr th:only-of-type {\n",
       "        vertical-align: middle;\n",
       "    }\n",
       "\n",
       "    .dataframe tbody tr th {\n",
       "        vertical-align: top;\n",
       "    }\n",
       "\n",
       "    .dataframe thead th {\n",
       "        text-align: right;\n",
       "    }\n",
       "</style>\n",
       "<table border=\"1\" class=\"dataframe\">\n",
       "  <thead>\n",
       "    <tr style=\"text-align: right;\">\n",
       "      <th></th>\n",
       "      <th>text</th>\n",
       "      <th>date</th>\n",
       "    </tr>\n",
       "    <tr>\n",
       "      <th>id</th>\n",
       "      <th></th>\n",
       "      <th></th>\n",
       "    </tr>\n",
       "  </thead>\n",
       "  <tbody>\n",
       "    <tr>\n",
       "      <th>11233</th>\n",
       "      <td>ህወሀት እንደ ቺቺኒያ ያሉ ለመኖርያ ተብለው በማስተር ፕላኑ የተቀመጡ ሰፈ...</td>\n",
       "      <td>2021-01-04T11:27:32</td>\n",
       "    </tr>\n",
       "    <tr>\n",
       "      <th>11258</th>\n",
       "      <td>የኤርትራ ውጭ ጉ/ሚንስትር እና የፕሬዝዳንት ኢሳይያስ አማካሪ የተካተቱበት...</td>\n",
       "      <td>2021-01-05T23:27:06</td>\n",
       "    </tr>\n",
       "    <tr>\n",
       "      <th>11259</th>\n",
       "      <td>📍ግብፃውያኑ በአባይ (በህዳሴ) ግድብ ጉዳይ ከመጨነቃቸው የተነሳ በቴሌቪዥ...</td>\n",
       "      <td>2021-01-06T08:23:56</td>\n",
       "    </tr>\n",
       "    <tr>\n",
       "      <th>11261</th>\n",
       "      <td>በአዲስ አበባ ፖፖላሬ አካባቢ በደረሰ የእሳት አደጋ ሁለት ተሽከርካሪዎች ...</td>\n",
       "      <td>2021-01-06T09:22:51</td>\n",
       "    </tr>\n",
       "    <tr>\n",
       "      <th>11262</th>\n",
       "      <td>የገና ሥጦታ ሎተሪ ዕጣ ውጤት\\n\\nየገና ሥጦታ ሎተሪ ትላንት ማክሰኞ ታህ...</td>\n",
       "      <td>2021-01-06T09:23:52</td>\n",
       "    </tr>\n",
       "  </tbody>\n",
       "</table>\n",
       "</div>"
      ],
      "text/plain": [
       "                                                    text                 date\n",
       "id                                                                           \n",
       "11233  ህወሀት እንደ ቺቺኒያ ያሉ ለመኖርያ ተብለው በማስተር ፕላኑ የተቀመጡ ሰፈ...  2021-01-04T11:27:32\n",
       "11258  የኤርትራ ውጭ ጉ/ሚንስትር እና የፕሬዝዳንት ኢሳይያስ አማካሪ የተካተቱበት...  2021-01-05T23:27:06\n",
       "11259  📍ግብፃውያኑ በአባይ (በህዳሴ) ግድብ ጉዳይ ከመጨነቃቸው የተነሳ በቴሌቪዥ...  2021-01-06T08:23:56\n",
       "11261  በአዲስ አበባ ፖፖላሬ አካባቢ በደረሰ የእሳት አደጋ ሁለት ተሽከርካሪዎች ...  2021-01-06T09:22:51\n",
       "11262  የገና ሥጦታ ሎተሪ ዕጣ ውጤት\\n\\nየገና ሥጦታ ሎተሪ ትላንት ማክሰኞ ታህ...  2021-01-06T09:23:52"
      ]
     },
     "execution_count": 5,
     "metadata": {},
     "output_type": "execute_result"
    }
   ],
   "source": [
    "df = pd.DataFrame(parsed_message)\n",
    "df.set_index('id', inplace=True)\n",
    "df.head()"
   ]
  },
  {
   "cell_type": "code",
   "execution_count": 6,
   "metadata": {},
   "outputs": [
    {
     "data": {
      "text/plain": [
       "(14429, 2)"
      ]
     },
     "execution_count": 6,
     "metadata": {},
     "output_type": "execute_result"
    }
   ],
   "source": [
    "df.shape"
   ]
  },
  {
   "cell_type": "markdown",
   "metadata": {},
   "source": [
    "#### save to CSV file under parsed directory"
   ]
  },
  {
   "cell_type": "code",
   "execution_count": 7,
   "metadata": {},
   "outputs": [],
   "source": [
    "df.to_csv(f'{parsed_dir}/{file_name}.csv')"
   ]
  }
 ],
 "metadata": {
  "kernelspec": {
   "display_name": "Python 3",
   "language": "python",
   "name": "python3"
  },
  "language_info": {
   "codemirror_mode": {
    "name": "ipython",
    "version": 3
   },
   "file_extension": ".py",
   "mimetype": "text/x-python",
   "name": "python",
   "nbconvert_exporter": "python",
   "pygments_lexer": "ipython3",
   "version": "3.12.0"
  }
 },
 "nbformat": 4,
 "nbformat_minor": 2
}
