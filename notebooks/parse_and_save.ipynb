{
 "cells": [
  {
   "cell_type": "markdown",
   "metadata": {},
   "source": [
    "### Parse important information from initial raw file convert and save it to parsed dir as dataframe"
   ]
  },
  {
   "cell_type": "markdown",
   "metadata": {},
   "source": [
    "#### Import modules"
   ]
  },
  {
   "cell_type": "code",
   "execution_count": 1,
   "metadata": {},
   "outputs": [],
   "source": [
    "import sys, os\n",
    "import pandas as pd\n",
    "sys.path.append(os.path.abspath(os.path.join('../scripts')))\n",
    "from util import Util"
   ]
  },
  {
   "cell_type": "markdown",
   "metadata": {},
   "source": [
    "#### Init Variables"
   ]
  },
  {
   "cell_type": "code",
   "execution_count": 2,
   "metadata": {},
   "outputs": [],
   "source": [
    "raw_dir = \"../data/raw\"\n",
    "parsed_dir = \"../data/parsed\"\n",
    "file_name = \"TIKVAH\"\n",
    "util = Util()"
   ]
  },
  {
   "cell_type": "markdown",
   "metadata": {},
   "source": [
    "#### Read File"
   ]
  },
  {
   "cell_type": "code",
   "execution_count": 3,
   "metadata": {},
   "outputs": [],
   "source": [
    "data = util.read_file(f'{raw_dir}/{file_name}.json')"
   ]
  },
  {
   "cell_type": "code",
   "execution_count": 4,
   "metadata": {},
   "outputs": [],
   "source": [
    "parsed_message = util.parse_messages(data['messages'])\n",
    "# parsed_message"
   ]
  },
  {
   "cell_type": "markdown",
   "metadata": {},
   "source": [
    "#### Create pandas dataframe from parsed messages"
   ]
  },
  {
   "cell_type": "code",
   "execution_count": 5,
   "metadata": {},
   "outputs": [
    {
     "data": {
      "text/html": [
       "<div>\n",
       "<style scoped>\n",
       "    .dataframe tbody tr th:only-of-type {\n",
       "        vertical-align: middle;\n",
       "    }\n",
       "\n",
       "    .dataframe tbody tr th {\n",
       "        vertical-align: top;\n",
       "    }\n",
       "\n",
       "    .dataframe thead th {\n",
       "        text-align: right;\n",
       "    }\n",
       "</style>\n",
       "<table border=\"1\" class=\"dataframe\">\n",
       "  <thead>\n",
       "    <tr style=\"text-align: right;\">\n",
       "      <th></th>\n",
       "      <th>text</th>\n",
       "      <th>date</th>\n",
       "    </tr>\n",
       "    <tr>\n",
       "      <th>id</th>\n",
       "      <th></th>\n",
       "      <th></th>\n",
       "    </tr>\n",
       "  </thead>\n",
       "  <tbody>\n",
       "    <tr>\n",
       "      <th>12</th>\n",
       "      <td>ታሪክ የሌለው ህዝብ ታሪካዊ ስራ ለመስራት አይጓጓም። ነፃነትም የማያውቅ ...</td>\n",
       "      <td>2017-07-27T11:37:49</td>\n",
       "    </tr>\n",
       "    <tr>\n",
       "      <th>14</th>\n",
       "      <td>ኢትዮጵያ ኣደይ !\\n\\n@tikvahethiopia</td>\n",
       "      <td>2017-07-27T11:52:34</td>\n",
       "    </tr>\n",
       "    <tr>\n",
       "      <th>15</th>\n",
       "      <td>አደራ ልጄ \\n\\nገንዘብ ውርሴን አምጪ አትበይኝ አደራ\\nመኪና ቪላ ፎቅ ...</td>\n",
       "      <td>2017-07-27T12:13:05</td>\n",
       "    </tr>\n",
       "    <tr>\n",
       "      <th>17</th>\n",
       "      <td>ኢትዮጵያ ሀገሬ መመኪያ ነሽ ክብሬ !\\n\\n@tikvahethiopia</td>\n",
       "      <td>2017-07-27T13:15:01</td>\n",
       "    </tr>\n",
       "    <tr>\n",
       "      <th>18</th>\n",
       "      <td>ኢትዮጵያዊነት\\n\\nኢትዮጵያዊነት ብዙ የተለያዩ ኅብረተሰቦች የተዋኅዱበት ...</td>\n",
       "      <td>2017-07-27T13:37:46</td>\n",
       "    </tr>\n",
       "  </tbody>\n",
       "</table>\n",
       "</div>"
      ],
      "text/plain": [
       "                                                 text                 date\n",
       "id                                                                        \n",
       "12  ታሪክ የሌለው ህዝብ ታሪካዊ ስራ ለመስራት አይጓጓም። ነፃነትም የማያውቅ ...  2017-07-27T11:37:49\n",
       "14                     ኢትዮጵያ ኣደይ !\\n\\n@tikvahethiopia  2017-07-27T11:52:34\n",
       "15  አደራ ልጄ \\n\\nገንዘብ ውርሴን አምጪ አትበይኝ አደራ\\nመኪና ቪላ ፎቅ ...  2017-07-27T12:13:05\n",
       "17         ኢትዮጵያ ሀገሬ መመኪያ ነሽ ክብሬ !\\n\\n@tikvahethiopia  2017-07-27T13:15:01\n",
       "18  ኢትዮጵያዊነት\\n\\nኢትዮጵያዊነት ብዙ የተለያዩ ኅብረተሰቦች የተዋኅዱበት ...  2017-07-27T13:37:46"
      ]
     },
     "execution_count": 5,
     "metadata": {},
     "output_type": "execute_result"
    }
   ],
   "source": [
    "# Convert the dictionary to a Pandas DataFrame\n",
    "df = pd.DataFrame(parsed_message)\n",
    "df.set_index('id', inplace=True)\n",
    "df.head()"
   ]
  },
  {
   "cell_type": "code",
   "execution_count": 6,
   "metadata": {},
   "outputs": [
    {
     "data": {
      "text/plain": [
       "(39754, 2)"
      ]
     },
     "execution_count": 6,
     "metadata": {},
     "output_type": "execute_result"
    }
   ],
   "source": [
    "df.shape"
   ]
  },
  {
   "cell_type": "markdown",
   "metadata": {},
   "source": [
    "#### Save"
   ]
  },
  {
   "cell_type": "code",
   "execution_count": 6,
   "metadata": {},
   "outputs": [],
   "source": [
    "df.to_csv(f'{parsed_dir}/{file_name}.csv')"
   ]
  },
  {
   "cell_type": "code",
   "execution_count": null,
   "metadata": {},
   "outputs": [],
   "source": []
  }
 ],
 "metadata": {
  "kernelspec": {
   "display_name": "venv",
   "language": "python",
   "name": "python3"
  },
  "language_info": {
   "codemirror_mode": {
    "name": "ipython",
    "version": 3
   },
   "file_extension": ".py",
   "mimetype": "text/x-python",
   "name": "python",
   "nbconvert_exporter": "python",
   "pygments_lexer": "ipython3",
   "version": "3.11.6"
  }
 },
 "nbformat": 4,
 "nbformat_minor": 2
}
