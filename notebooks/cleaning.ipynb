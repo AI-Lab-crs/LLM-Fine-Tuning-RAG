{
 "cells": [
  {
   "cell_type": "markdown",
   "metadata": {},
   "source": [
    "### Remove:\n",
    "* Null values, new_line(\"\\n\"), hashtags(\"#*\"), emojis, other characters\n",
    "### Replace:\n",
    "* ['ሐ', 'ሑ', 'ሒ', 'ሓ', 'ሔ', 'ሖ'] with ['ሀ', 'ሁ', 'ሂ', 'ሃ', 'ሄ', 'ህ', 'ሆ']\n",
    "* ['ኀ', 'ኁ', 'ኂ', 'ኃ', 'ኄ', 'ኅ', 'ኆ'] with ['ሀ', 'ሁ', 'ሂ', 'ሃ', 'ሄ', 'ህ', 'ሆ']\n",
    "* ['ሠ', 'ሡ', 'ሢ', 'ሣ', 'ሤ', 'ሦ', 'ሦ', 'ሧ'] with ['ሰ, 'ሱ', 'ሲ', 'ሳ', 'ሴ', 'ስ', 'ሶ', 'ሷ']\n",
    "* ['ዐ', 'ዑ', 'ዒ', 'ዓ', 'ዔ', 'ዕ', 'ዖ'] with ['አ', 'ኡ', 'ኢ', 'ኣ', 'ኤ', 'እ', 'ኦ']\n",
    "* ['ጸ', 'ጹ', 'ጺ', 'ጻ', 'ጼ', 'ጽ', 'ጾ'] with ['ፀ', 'ፁ', 'ፂ', 'ፃ', 'ፄ', 'ፅ', 'ፆ']\n"
   ]
  },
  {
   "cell_type": "markdown",
   "metadata": {},
   "source": [
    "#### Import modules"
   ]
  },
  {
   "cell_type": "code",
   "execution_count": 29,
   "metadata": {},
   "outputs": [],
   "source": [
    "import sys, os\n",
    "import pandas as pd\n",
    "sys.path.append(os.path.abspath(os.path.join('..')))\n",
    "from utils.preprocessing import MyPreprocessing"
   ]
  },
  {
   "cell_type": "markdown",
   "metadata": {},
   "source": [
    "#### Init Variables"
   ]
  },
  {
   "cell_type": "code",
   "execution_count": 30,
   "metadata": {},
   "outputs": [],
   "source": [
    "parsed_dir = \"../data/parsed\"\n",
    "cleaned_dir = \"../data/cleaned\"\n",
    "file_name = \"TIKVAH\"\n",
    "preprocess = MyPreprocessing()"
   ]
  },
  {
   "cell_type": "markdown",
   "metadata": {},
   "source": [
    "#### Read parsed data"
   ]
  },
  {
   "cell_type": "code",
   "execution_count": 31,
   "metadata": {},
   "outputs": [
    {
     "data": {
      "text/html": [
       "<div>\n",
       "<style scoped>\n",
       "    .dataframe tbody tr th:only-of-type {\n",
       "        vertical-align: middle;\n",
       "    }\n",
       "\n",
       "    .dataframe tbody tr th {\n",
       "        vertical-align: top;\n",
       "    }\n",
       "\n",
       "    .dataframe thead th {\n",
       "        text-align: right;\n",
       "    }\n",
       "</style>\n",
       "<table border=\"1\" class=\"dataframe\">\n",
       "  <thead>\n",
       "    <tr style=\"text-align: right;\">\n",
       "      <th></th>\n",
       "      <th>text</th>\n",
       "      <th>date</th>\n",
       "    </tr>\n",
       "    <tr>\n",
       "      <th>id</th>\n",
       "      <th></th>\n",
       "      <th></th>\n",
       "    </tr>\n",
       "  </thead>\n",
       "  <tbody>\n",
       "    <tr>\n",
       "      <th>3</th>\n",
       "      <td>አንድ ላይ ተጋግዘን ትልቅ መወያያ መድረክ እንፍጠር ስለምታደርጉልኝ ድጋፍ...</td>\n",
       "      <td>2021-12-30T22:02:03</td>\n",
       "    </tr>\n",
       "    <tr>\n",
       "      <th>14</th>\n",
       "      <td>መረጃ❗️❗️❗️\\n\\nየህወሃት ጦር ከመቀሌ ወደ አፋር አብዓላ የሚወስደውን...</td>\n",
       "      <td>2022-05-03T14:31:44</td>\n",
       "    </tr>\n",
       "    <tr>\n",
       "      <th>15</th>\n",
       "      <td>አዲስ መረጃ የጠ/ሩ የምሳ ግብዣ እንዴት አለፈ⁉️\\n\\nብፁዑ ወቅዱስ አቡ...</td>\n",
       "      <td>2022-05-03T15:25:59</td>\n",
       "    </tr>\n",
       "    <tr>\n",
       "      <th>16</th>\n",
       "      <td>ልዩ መረጃ‼️\\n\\n# የኦሮሚያ ልዩ ኃይል እና ሸኔ በምዕራብ ሸዋ በአማሮ...</td>\n",
       "      <td>2022-05-03T15:44:43</td>\n",
       "    </tr>\n",
       "    <tr>\n",
       "      <th>17</th>\n",
       "      <td>NEWSALERT‼️\\n\\nከቀናት በፊት ደሴ ላይ ቤተከርስቲያን አፍርሰን መ...</td>\n",
       "      <td>2022-05-03T17:07:43</td>\n",
       "    </tr>\n",
       "  </tbody>\n",
       "</table>\n",
       "</div>"
      ],
      "text/plain": [
       "                                                 text                 date\n",
       "id                                                                        \n",
       "3   አንድ ላይ ተጋግዘን ትልቅ መወያያ መድረክ እንፍጠር ስለምታደርጉልኝ ድጋፍ...  2021-12-30T22:02:03\n",
       "14  መረጃ❗️❗️❗️\\n\\nየህወሃት ጦር ከመቀሌ ወደ አፋር አብዓላ የሚወስደውን...  2022-05-03T14:31:44\n",
       "15  አዲስ መረጃ የጠ/ሩ የምሳ ግብዣ እንዴት አለፈ⁉️\\n\\nብፁዑ ወቅዱስ አቡ...  2022-05-03T15:25:59\n",
       "16  ልዩ መረጃ‼️\\n\\n# የኦሮሚያ ልዩ ኃይል እና ሸኔ በምዕራብ ሸዋ በአማሮ...  2022-05-03T15:44:43\n",
       "17  NEWSALERT‼️\\n\\nከቀናት በፊት ደሴ ላይ ቤተከርስቲያን አፍርሰን መ...  2022-05-03T17:07:43"
      ]
     },
     "execution_count": 31,
     "metadata": {},
     "output_type": "execute_result"
    }
   ],
   "source": [
    "df = pd.read_csv(f\"{parsed_dir}/{file_name}.csv\", index_col='id')\n",
    "df.head()"
   ]
  },
  {
   "cell_type": "code",
   "execution_count": 32,
   "metadata": {},
   "outputs": [
    {
     "data": {
      "text/plain": [
       "(3369, 2)"
      ]
     },
     "execution_count": 32,
     "metadata": {},
     "output_type": "execute_result"
    }
   ],
   "source": [
    "df.shape"
   ]
  },
  {
   "cell_type": "markdown",
   "metadata": {},
   "source": [
    "#### Remove null values"
   ]
  },
  {
   "cell_type": "code",
   "execution_count": 33,
   "metadata": {},
   "outputs": [
    {
     "data": {
      "text/html": [
       "<div>\n",
       "<style scoped>\n",
       "    .dataframe tbody tr th:only-of-type {\n",
       "        vertical-align: middle;\n",
       "    }\n",
       "\n",
       "    .dataframe tbody tr th {\n",
       "        vertical-align: top;\n",
       "    }\n",
       "\n",
       "    .dataframe thead th {\n",
       "        text-align: right;\n",
       "    }\n",
       "</style>\n",
       "<table border=\"1\" class=\"dataframe\">\n",
       "  <thead>\n",
       "    <tr style=\"text-align: right;\">\n",
       "      <th></th>\n",
       "      <th>text</th>\n",
       "      <th>date</th>\n",
       "    </tr>\n",
       "    <tr>\n",
       "      <th>id</th>\n",
       "      <th></th>\n",
       "      <th></th>\n",
       "    </tr>\n",
       "  </thead>\n",
       "  <tbody>\n",
       "    <tr>\n",
       "      <th>3</th>\n",
       "      <td>አንድ ላይ ተጋግዘን ትልቅ መወያያ መድረክ እንፍጠር ስለምታደርጉልኝ ድጋፍ...</td>\n",
       "      <td>2021-12-30T22:02:03</td>\n",
       "    </tr>\n",
       "    <tr>\n",
       "      <th>14</th>\n",
       "      <td>መረጃ❗️❗️❗️\\n\\nየህወሃት ጦር ከመቀሌ ወደ አፋር አብዓላ የሚወስደውን...</td>\n",
       "      <td>2022-05-03T14:31:44</td>\n",
       "    </tr>\n",
       "    <tr>\n",
       "      <th>15</th>\n",
       "      <td>አዲስ መረጃ የጠ/ሩ የምሳ ግብዣ እንዴት አለፈ⁉️\\n\\nብፁዑ ወቅዱስ አቡ...</td>\n",
       "      <td>2022-05-03T15:25:59</td>\n",
       "    </tr>\n",
       "    <tr>\n",
       "      <th>16</th>\n",
       "      <td>ልዩ መረጃ‼️\\n\\n# የኦሮሚያ ልዩ ኃይል እና ሸኔ በምዕራብ ሸዋ በአማሮ...</td>\n",
       "      <td>2022-05-03T15:44:43</td>\n",
       "    </tr>\n",
       "    <tr>\n",
       "      <th>17</th>\n",
       "      <td>NEWSALERT‼️\\n\\nከቀናት በፊት ደሴ ላይ ቤተከርስቲያን አፍርሰን መ...</td>\n",
       "      <td>2022-05-03T17:07:43</td>\n",
       "    </tr>\n",
       "  </tbody>\n",
       "</table>\n",
       "</div>"
      ],
      "text/plain": [
       "                                                 text                 date\n",
       "id                                                                        \n",
       "3   አንድ ላይ ተጋግዘን ትልቅ መወያያ መድረክ እንፍጠር ስለምታደርጉልኝ ድጋፍ...  2021-12-30T22:02:03\n",
       "14  መረጃ❗️❗️❗️\\n\\nየህወሃት ጦር ከመቀሌ ወደ አፋር አብዓላ የሚወስደውን...  2022-05-03T14:31:44\n",
       "15  አዲስ መረጃ የጠ/ሩ የምሳ ግብዣ እንዴት አለፈ⁉️\\n\\nብፁዑ ወቅዱስ አቡ...  2022-05-03T15:25:59\n",
       "16  ልዩ መረጃ‼️\\n\\n# የኦሮሚያ ልዩ ኃይል እና ሸኔ በምዕራብ ሸዋ በአማሮ...  2022-05-03T15:44:43\n",
       "17  NEWSALERT‼️\\n\\nከቀናት በፊት ደሴ ላይ ቤተከርስቲያን አፍርሰን መ...  2022-05-03T17:07:43"
      ]
     },
     "execution_count": 33,
     "metadata": {},
     "output_type": "execute_result"
    }
   ],
   "source": [
    "df = df.dropna()\n",
    "df.head()"
   ]
  },
  {
   "cell_type": "code",
   "execution_count": 34,
   "metadata": {},
   "outputs": [
    {
     "data": {
      "text/plain": [
       "(3369, 2)"
      ]
     },
     "execution_count": 34,
     "metadata": {},
     "output_type": "execute_result"
    }
   ],
   "source": [
    "df.shape"
   ]
  },
  {
   "cell_type": "markdown",
   "metadata": {},
   "source": [
    "#### Remove new line"
   ]
  },
  {
   "cell_type": "code",
   "execution_count": 35,
   "metadata": {},
   "outputs": [
    {
     "data": {
      "text/html": [
       "<div>\n",
       "<style scoped>\n",
       "    .dataframe tbody tr th:only-of-type {\n",
       "        vertical-align: middle;\n",
       "    }\n",
       "\n",
       "    .dataframe tbody tr th {\n",
       "        vertical-align: top;\n",
       "    }\n",
       "\n",
       "    .dataframe thead th {\n",
       "        text-align: right;\n",
       "    }\n",
       "</style>\n",
       "<table border=\"1\" class=\"dataframe\">\n",
       "  <thead>\n",
       "    <tr style=\"text-align: right;\">\n",
       "      <th></th>\n",
       "      <th>text</th>\n",
       "      <th>date</th>\n",
       "    </tr>\n",
       "    <tr>\n",
       "      <th>id</th>\n",
       "      <th></th>\n",
       "      <th></th>\n",
       "    </tr>\n",
       "  </thead>\n",
       "  <tbody>\n",
       "    <tr>\n",
       "      <th>3</th>\n",
       "      <td>አንድ ላይ ተጋግዘን ትልቅ መወያያ መድረክ እንፍጠር ስለምታደርጉልኝ ድጋፍ...</td>\n",
       "      <td>2021-12-30T22:02:03</td>\n",
       "    </tr>\n",
       "    <tr>\n",
       "      <th>14</th>\n",
       "      <td>መረጃ❗️❗️❗️  የህወሃት ጦር ከመቀሌ ወደ አፋር አብዓላ የሚወስደውን መ...</td>\n",
       "      <td>2022-05-03T14:31:44</td>\n",
       "    </tr>\n",
       "    <tr>\n",
       "      <th>15</th>\n",
       "      <td>አዲስ መረጃ የጠ/ሩ የምሳ ግብዣ እንዴት አለፈ⁉️  ብፁዑ ወቅዱስ አቡነ ...</td>\n",
       "      <td>2022-05-03T15:25:59</td>\n",
       "    </tr>\n",
       "    <tr>\n",
       "      <th>16</th>\n",
       "      <td>ልዩ መረጃ‼️  # የኦሮሚያ ልዩ ኃይል እና ሸኔ በምዕራብ ሸዋ በአማሮች ...</td>\n",
       "      <td>2022-05-03T15:44:43</td>\n",
       "    </tr>\n",
       "    <tr>\n",
       "      <th>17</th>\n",
       "      <td>NEWSALERT‼️  ከቀናት በፊት ደሴ ላይ ቤተከርስቲያን አፍርሰን መስጊ...</td>\n",
       "      <td>2022-05-03T17:07:43</td>\n",
       "    </tr>\n",
       "  </tbody>\n",
       "</table>\n",
       "</div>"
      ],
      "text/plain": [
       "                                                 text                 date\n",
       "id                                                                        \n",
       "3   አንድ ላይ ተጋግዘን ትልቅ መወያያ መድረክ እንፍጠር ስለምታደርጉልኝ ድጋፍ...  2021-12-30T22:02:03\n",
       "14  መረጃ❗️❗️❗️  የህወሃት ጦር ከመቀሌ ወደ አፋር አብዓላ የሚወስደውን መ...  2022-05-03T14:31:44\n",
       "15  አዲስ መረጃ የጠ/ሩ የምሳ ግብዣ እንዴት አለፈ⁉️  ብፁዑ ወቅዱስ አቡነ ...  2022-05-03T15:25:59\n",
       "16  ልዩ መረጃ‼️  # የኦሮሚያ ልዩ ኃይል እና ሸኔ በምዕራብ ሸዋ በአማሮች ...  2022-05-03T15:44:43\n",
       "17  NEWSALERT‼️  ከቀናት በፊት ደሴ ላይ ቤተከርስቲያን አፍርሰን መስጊ...  2022-05-03T17:07:43"
      ]
     },
     "execution_count": 35,
     "metadata": {},
     "output_type": "execute_result"
    }
   ],
   "source": [
    "df = df.replace('\\n', ' ', regex=True)\n",
    "df.head()"
   ]
  },
  {
   "cell_type": "markdown",
   "metadata": {},
   "source": [
    "#### Extract and remove hasthags"
   ]
  },
  {
   "cell_type": "code",
   "execution_count": 36,
   "metadata": {},
   "outputs": [
    {
     "data": {
      "text/plain": [
       "'አንድ ላይ ተጋግዘን ትልቅ መወያያ መድረክ እንፍጠር ስለምታደርጉልኝ ድጋፍ ከወዲሁ አመሰግናለው'"
      ]
     },
     "execution_count": 36,
     "metadata": {},
     "output_type": "execute_result"
    }
   ],
   "source": [
    "# MyPreprocessing.extract_hashtags(df['text'][3])\n",
    "df['text'][3]"
   ]
  },
  {
   "cell_type": "code",
   "execution_count": 37,
   "metadata": {},
   "outputs": [
    {
     "data": {
      "text/html": [
       "<div>\n",
       "<style scoped>\n",
       "    .dataframe tbody tr th:only-of-type {\n",
       "        vertical-align: middle;\n",
       "    }\n",
       "\n",
       "    .dataframe tbody tr th {\n",
       "        vertical-align: top;\n",
       "    }\n",
       "\n",
       "    .dataframe thead th {\n",
       "        text-align: right;\n",
       "    }\n",
       "</style>\n",
       "<table border=\"1\" class=\"dataframe\">\n",
       "  <thead>\n",
       "    <tr style=\"text-align: right;\">\n",
       "      <th></th>\n",
       "      <th>text</th>\n",
       "      <th>date</th>\n",
       "      <th>hashtags</th>\n",
       "    </tr>\n",
       "    <tr>\n",
       "      <th>id</th>\n",
       "      <th></th>\n",
       "      <th></th>\n",
       "      <th></th>\n",
       "    </tr>\n",
       "  </thead>\n",
       "  <tbody>\n",
       "    <tr>\n",
       "      <th>3</th>\n",
       "      <td>አንድ ላይ ተጋግዘን ትልቅ መወያያ መድረክ እንፍጠር ስለምታደርጉልኝ ድጋፍ...</td>\n",
       "      <td>2021-12-30T22:02:03</td>\n",
       "      <td>[]</td>\n",
       "    </tr>\n",
       "    <tr>\n",
       "      <th>14</th>\n",
       "      <td>መረጃ❗️❗️❗️  የህወሃት ጦር ከመቀሌ ወደ አፋር አብዓላ የሚወስደውን መ...</td>\n",
       "      <td>2022-05-03T14:31:44</td>\n",
       "      <td>[]</td>\n",
       "    </tr>\n",
       "    <tr>\n",
       "      <th>15</th>\n",
       "      <td>አዲስ መረጃ የጠ/ሩ የምሳ ግብዣ እንዴት አለፈ⁉️  ብፁዑ ወቅዱስ አቡነ ...</td>\n",
       "      <td>2022-05-03T15:25:59</td>\n",
       "      <td>[]</td>\n",
       "    </tr>\n",
       "    <tr>\n",
       "      <th>16</th>\n",
       "      <td>ልዩ መረጃ‼️  # የኦሮሚያ ልዩ ኃይል እና ሸኔ በምዕራብ ሸዋ በአማሮች ...</td>\n",
       "      <td>2022-05-03T15:44:43</td>\n",
       "      <td>[#, #]</td>\n",
       "    </tr>\n",
       "    <tr>\n",
       "      <th>17</th>\n",
       "      <td>NEWSALERT‼️  ከቀናት በፊት ደሴ ላይ ቤተከርስቲያን አፍርሰን መስጊ...</td>\n",
       "      <td>2022-05-03T17:07:43</td>\n",
       "      <td>[#ሸገር_ፕሬስ, #share]</td>\n",
       "    </tr>\n",
       "  </tbody>\n",
       "</table>\n",
       "</div>"
      ],
      "text/plain": [
       "                                                 text                 date  \\\n",
       "id                                                                           \n",
       "3   አንድ ላይ ተጋግዘን ትልቅ መወያያ መድረክ እንፍጠር ስለምታደርጉልኝ ድጋፍ...  2021-12-30T22:02:03   \n",
       "14  መረጃ❗️❗️❗️  የህወሃት ጦር ከመቀሌ ወደ አፋር አብዓላ የሚወስደውን መ...  2022-05-03T14:31:44   \n",
       "15  አዲስ መረጃ የጠ/ሩ የምሳ ግብዣ እንዴት አለፈ⁉️  ብፁዑ ወቅዱስ አቡነ ...  2022-05-03T15:25:59   \n",
       "16  ልዩ መረጃ‼️  # የኦሮሚያ ልዩ ኃይል እና ሸኔ በምዕራብ ሸዋ በአማሮች ...  2022-05-03T15:44:43   \n",
       "17  NEWSALERT‼️  ከቀናት በፊት ደሴ ላይ ቤተከርስቲያን አፍርሰን መስጊ...  2022-05-03T17:07:43   \n",
       "\n",
       "              hashtags  \n",
       "id                      \n",
       "3                   []  \n",
       "14                  []  \n",
       "15                  []  \n",
       "16              [#, #]  \n",
       "17  [#ሸገር_ፕሬስ, #share]  "
      ]
     },
     "execution_count": 37,
     "metadata": {},
     "output_type": "execute_result"
    }
   ],
   "source": [
    "# Extract hashtags\n",
    "df['hashtags'] = df['text'].apply(lambda x: preprocess.extract_hashtags(x))\n",
    "df.head()"
   ]
  },
  {
   "cell_type": "code",
   "execution_count": 38,
   "metadata": {},
   "outputs": [
    {
     "data": {
      "text/html": [
       "<div>\n",
       "<style scoped>\n",
       "    .dataframe tbody tr th:only-of-type {\n",
       "        vertical-align: middle;\n",
       "    }\n",
       "\n",
       "    .dataframe tbody tr th {\n",
       "        vertical-align: top;\n",
       "    }\n",
       "\n",
       "    .dataframe thead th {\n",
       "        text-align: right;\n",
       "    }\n",
       "</style>\n",
       "<table border=\"1\" class=\"dataframe\">\n",
       "  <thead>\n",
       "    <tr style=\"text-align: right;\">\n",
       "      <th></th>\n",
       "      <th>text</th>\n",
       "      <th>date</th>\n",
       "      <th>hashtags</th>\n",
       "    </tr>\n",
       "    <tr>\n",
       "      <th>id</th>\n",
       "      <th></th>\n",
       "      <th></th>\n",
       "      <th></th>\n",
       "    </tr>\n",
       "  </thead>\n",
       "  <tbody>\n",
       "    <tr>\n",
       "      <th>3</th>\n",
       "      <td>አንድ ላይ ተጋግዘን ትልቅ መወያያ መድረክ እንፍጠር ስለምታደርጉልኝ ድጋፍ...</td>\n",
       "      <td>2021-12-30T22:02:03</td>\n",
       "      <td>[]</td>\n",
       "    </tr>\n",
       "    <tr>\n",
       "      <th>14</th>\n",
       "      <td>መረጃ❗️❗️❗️  የህወሃት ጦር ከመቀሌ ወደ አፋር አብዓላ የሚወስደውን መ...</td>\n",
       "      <td>2022-05-03T14:31:44</td>\n",
       "      <td>[]</td>\n",
       "    </tr>\n",
       "    <tr>\n",
       "      <th>15</th>\n",
       "      <td>አዲስ መረጃ የጠ/ሩ የምሳ ግብዣ እንዴት አለፈ⁉️  ብፁዑ ወቅዱስ አቡነ ...</td>\n",
       "      <td>2022-05-03T15:25:59</td>\n",
       "      <td>[]</td>\n",
       "    </tr>\n",
       "    <tr>\n",
       "      <th>16</th>\n",
       "      <td>ልዩ መረጃ‼️  # የኦሮሚያ ልዩ ኃይል እና ሸኔ በምዕራብ ሸዋ በአማሮች ...</td>\n",
       "      <td>2022-05-03T15:44:43</td>\n",
       "      <td>[#, #]</td>\n",
       "    </tr>\n",
       "    <tr>\n",
       "      <th>17</th>\n",
       "      <td>NEWSALERT‼️  ከቀናት በፊት ደሴ ላይ ቤተከርስቲያን አፍርሰን መስጊ...</td>\n",
       "      <td>2022-05-03T17:07:43</td>\n",
       "      <td>[#ሸገር_ፕሬስ, #share]</td>\n",
       "    </tr>\n",
       "  </tbody>\n",
       "</table>\n",
       "</div>"
      ],
      "text/plain": [
       "                                                 text                 date  \\\n",
       "id                                                                           \n",
       "3   አንድ ላይ ተጋግዘን ትልቅ መወያያ መድረክ እንፍጠር ስለምታደርጉልኝ ድጋፍ...  2021-12-30T22:02:03   \n",
       "14  መረጃ❗️❗️❗️  የህወሃት ጦር ከመቀሌ ወደ አፋር አብዓላ የሚወስደውን መ...  2022-05-03T14:31:44   \n",
       "15  አዲስ መረጃ የጠ/ሩ የምሳ ግብዣ እንዴት አለፈ⁉️  ብፁዑ ወቅዱስ አቡነ ...  2022-05-03T15:25:59   \n",
       "16  ልዩ መረጃ‼️  # የኦሮሚያ ልዩ ኃይል እና ሸኔ በምዕራብ ሸዋ በአማሮች ...  2022-05-03T15:44:43   \n",
       "17  NEWSALERT‼️  ከቀናት በፊት ደሴ ላይ ቤተከርስቲያን አፍርሰን መስጊ...  2022-05-03T17:07:43   \n",
       "\n",
       "              hashtags  \n",
       "id                      \n",
       "3                   []  \n",
       "14                  []  \n",
       "15                  []  \n",
       "16              [#, #]  \n",
       "17  [#ሸገር_ፕሬስ, #share]  "
      ]
     },
     "execution_count": 38,
     "metadata": {},
     "output_type": "execute_result"
    }
   ],
   "source": [
    "# Remove hashtags from text\n",
    "df['text'] = df['text'].str.replace(r'\\#\\w+', '', regex=True)\n",
    "df.head()"
   ]
  },
  {
   "cell_type": "markdown",
   "metadata": {},
   "source": [
    "#### Extract emojis"
   ]
  },
  {
   "cell_type": "code",
   "execution_count": 39,
   "metadata": {},
   "outputs": [
    {
     "data": {
      "text/html": [
       "<div>\n",
       "<style scoped>\n",
       "    .dataframe tbody tr th:only-of-type {\n",
       "        vertical-align: middle;\n",
       "    }\n",
       "\n",
       "    .dataframe tbody tr th {\n",
       "        vertical-align: top;\n",
       "    }\n",
       "\n",
       "    .dataframe thead th {\n",
       "        text-align: right;\n",
       "    }\n",
       "</style>\n",
       "<table border=\"1\" class=\"dataframe\">\n",
       "  <thead>\n",
       "    <tr style=\"text-align: right;\">\n",
       "      <th></th>\n",
       "      <th>text</th>\n",
       "      <th>date</th>\n",
       "      <th>hashtags</th>\n",
       "      <th>emojis</th>\n",
       "    </tr>\n",
       "    <tr>\n",
       "      <th>id</th>\n",
       "      <th></th>\n",
       "      <th></th>\n",
       "      <th></th>\n",
       "      <th></th>\n",
       "    </tr>\n",
       "  </thead>\n",
       "  <tbody>\n",
       "    <tr>\n",
       "      <th>4309</th>\n",
       "      <td>የአረብ ሊግ ጋዜጣዊ መግለጫ   \"የአረብ ሊግ በኢትዮጵያ ፌደራላዊ ሪፐብሊ...</td>\n",
       "      <td>2024-01-03T21:14:33</td>\n",
       "      <td>[]</td>\n",
       "      <td></td>\n",
       "    </tr>\n",
       "    <tr>\n",
       "      <th>4310</th>\n",
       "      <td>ራስ ገዟ ሶማሊላንድ የሶማሊያን መንግሥትን አስጠነቀቀች..!!  ከኢትዮጵያ...</td>\n",
       "      <td>2024-01-03T21:30:32</td>\n",
       "      <td>[]</td>\n",
       "      <td></td>\n",
       "    </tr>\n",
       "    <tr>\n",
       "      <th>4311</th>\n",
       "      <td>ደብረ ብርሀን‼️  በደብረብርሃን ከተማ ወቅታዊ የጸጥታ ሁኔታን ምክኒያት ...</td>\n",
       "      <td>2024-01-03T21:41:45</td>\n",
       "      <td>[]</td>\n",
       "      <td></td>\n",
       "    </tr>\n",
       "    <tr>\n",
       "      <th>4312</th>\n",
       "      <td>ደብረብርሀን‼️  የኢትዮጵያ መከላከያ ሠራዊትና የፋኖ ግጭት በደብረ ብርሐ...</td>\n",
       "      <td>2024-01-04T07:32:55</td>\n",
       "      <td>[]</td>\n",
       "      <td></td>\n",
       "    </tr>\n",
       "    <tr>\n",
       "      <th>4313</th>\n",
       "      <td>አሜሪካ ፤ በ 1960 ለተካለለዉ የሶማሊያ ድንበር እዉቅና ሰጣለሁ አለች ...</td>\n",
       "      <td>2024-01-04T11:33:04</td>\n",
       "      <td>[]</td>\n",
       "      <td>👉🏼</td>\n",
       "    </tr>\n",
       "  </tbody>\n",
       "</table>\n",
       "</div>"
      ],
      "text/plain": [
       "                                                   text                 date  \\\n",
       "id                                                                             \n",
       "4309  የአረብ ሊግ ጋዜጣዊ መግለጫ   \"የአረብ ሊግ በኢትዮጵያ ፌደራላዊ ሪፐብሊ...  2024-01-03T21:14:33   \n",
       "4310  ራስ ገዟ ሶማሊላንድ የሶማሊያን መንግሥትን አስጠነቀቀች..!!  ከኢትዮጵያ...  2024-01-03T21:30:32   \n",
       "4311  ደብረ ብርሀን‼️  በደብረብርሃን ከተማ ወቅታዊ የጸጥታ ሁኔታን ምክኒያት ...  2024-01-03T21:41:45   \n",
       "4312  ደብረብርሀን‼️  የኢትዮጵያ መከላከያ ሠራዊትና የፋኖ ግጭት በደብረ ብርሐ...  2024-01-04T07:32:55   \n",
       "4313  አሜሪካ ፤ በ 1960 ለተካለለዉ የሶማሊያ ድንበር እዉቅና ሰጣለሁ አለች ...  2024-01-04T11:33:04   \n",
       "\n",
       "     hashtags emojis  \n",
       "id                    \n",
       "4309       []         \n",
       "4310       []         \n",
       "4311       []         \n",
       "4312       []         \n",
       "4313       []     👉🏼  "
      ]
     },
     "execution_count": 39,
     "metadata": {},
     "output_type": "execute_result"
    }
   ],
   "source": [
    "# Extract emojis using regex\n",
    "df['emojis'] = df['text'].apply(preprocess.extract_emojis)\n",
    "df.tail()"
   ]
  },
  {
   "cell_type": "code",
   "execution_count": 46,
   "metadata": {},
   "outputs": [
    {
     "data": {
      "text/plain": [
       "text        መረጃ‼️  አድግራት ፤ አክሱም ፤ አድዋ ፤ ራማ በምሽጎች ላይ የተሳካ የ...\n",
       "date                                      2022-09-21T08:34:04\n",
       "hashtags                                                   []\n",
       "emojis                                                       \n",
       "Name: 826, dtype: object"
      ]
     },
     "execution_count": 46,
     "metadata": {},
     "output_type": "execute_result"
    }
   ],
   "source": [
    "df_826 = df.loc[826]\n",
    "df_826"
   ]
  },
  {
   "cell_type": "markdown",
   "metadata": {},
   "source": [
    "#### Remove emojis from text"
   ]
  },
  {
   "cell_type": "code",
   "execution_count": 47,
   "metadata": {},
   "outputs": [],
   "source": [
    "df['text'] = df['text'].apply(preprocess.remove_emojis)"
   ]
  },
  {
   "cell_type": "code",
   "execution_count": 48,
   "metadata": {},
   "outputs": [
    {
     "data": {
      "text/plain": [
       "text        መረጃ‼️  አድግራት ፤ አክሱም ፤ አድዋ ፤ ራማ በምሽጎች ላይ የተሳካ የ...\n",
       "date                                      2022-09-21T08:34:04\n",
       "hashtags                                                   []\n",
       "emojis                                                       \n",
       "Name: 826, dtype: object"
      ]
     },
     "execution_count": 48,
     "metadata": {},
     "output_type": "execute_result"
    }
   ],
   "source": [
    "df_826 = df.loc[826]\n",
    "df_826"
   ]
  },
  {
   "cell_type": "markdown",
   "metadata": {},
   "source": [
    "#### Replace letters:\n",
    "* ['ሐ', 'ሑ', 'ሒ', 'ሓ', 'ሔ', 'ሖ'] with ['ሀ', 'ሁ', 'ሂ', 'ሃ', 'ሄ', 'ህ', 'ሆ']\n",
    "* ['ኀ', 'ኁ', 'ኂ', 'ኃ', 'ኄ', 'ኅ', 'ኆ'] with ['ሀ', 'ሁ', 'ሂ', 'ሃ', 'ሄ', 'ህ', 'ሆ']\n",
    "* ['ሠ', 'ሡ', 'ሢ', 'ሣ', 'ሤ', 'ሦ', 'ሦ', 'ሧ'] with ['ሰ, 'ሱ', 'ሲ', 'ሳ', 'ሴ', 'ስ', 'ሶ', 'ሷ']\n",
    "* ['ዐ', 'ዑ', 'ዒ', 'ዓ', 'ዔ', 'ዕ', 'ዖ'] with ['አ', 'ኡ', 'ኢ', 'ኣ', 'ኤ', 'እ', 'ኦ']\n",
    "* ['ጸ', 'ጹ', 'ጺ', 'ጻ', 'ጼ', 'ጽ', 'ጾ'] with ['ፀ', 'ፁ', 'ፂ', 'ፃ', 'ፄ', 'ፅ', 'ፆ']"
   ]
  },
  {
   "cell_type": "code",
   "execution_count": 49,
   "metadata": {},
   "outputs": [],
   "source": [
    "letters = [\n",
    "  [['ሐ', 'ሑ', 'ሒ', 'ሓ', 'ሔ', 'ሖ'], ['ሀ', 'ሁ', 'ሂ', 'ሃ', 'ሄ', 'ህ', 'ሆ']],\n",
    "  [['ኀ', 'ኁ', 'ኂ', 'ኃ', 'ኄ', 'ኅ', 'ኆ'], ['ሀ', 'ሁ', 'ሂ', 'ሃ', 'ሄ', 'ህ', 'ሆ']],\n",
    "  [['ሠ', 'ሡ', 'ሢ', 'ሣ', 'ሤ', 'ሦ', 'ሦ', 'ሧ'], ['ሰ', 'ሱ', 'ሲ', 'ሳ', 'ሴ', 'ስ', 'ሶ', 'ሷ']],\n",
    "  [['ዐ', 'ዑ', 'ዒ', 'ዓ', 'ዔ', 'ዕ', 'ዖ'], ['አ', 'ኡ', 'ኢ', 'ኣ', 'ኤ', 'እ', 'ኦ']],\n",
    "  [['ጸ', 'ጹ', 'ጺ', 'ጻ', 'ጼ', 'ጽ', 'ጾ'], ['ፀ', 'ፁ', 'ፂ', 'ፃ', 'ፄ', 'ፅ', 'ፆ']]\n",
    "]\n",
    "for letter in letters:\n",
    "  for i in range(len(letter[0])):\n",
    "    df['text'] = df['text'].str.replace(letter[0][i], letter[1][i])\n",
    "    \n"
   ]
  },
  {
   "cell_type": "markdown",
   "metadata": {},
   "source": [
    "#### Extract symbols"
   ]
  },
  {
   "cell_type": "code",
   "execution_count": 50,
   "metadata": {},
   "outputs": [
    {
     "data": {
      "text/html": [
       "<div>\n",
       "<style scoped>\n",
       "    .dataframe tbody tr th:only-of-type {\n",
       "        vertical-align: middle;\n",
       "    }\n",
       "\n",
       "    .dataframe tbody tr th {\n",
       "        vertical-align: top;\n",
       "    }\n",
       "\n",
       "    .dataframe thead th {\n",
       "        text-align: right;\n",
       "    }\n",
       "</style>\n",
       "<table border=\"1\" class=\"dataframe\">\n",
       "  <thead>\n",
       "    <tr style=\"text-align: right;\">\n",
       "      <th></th>\n",
       "      <th>text</th>\n",
       "      <th>date</th>\n",
       "      <th>hashtags</th>\n",
       "      <th>emojis</th>\n",
       "      <th>symbols</th>\n",
       "    </tr>\n",
       "    <tr>\n",
       "      <th>id</th>\n",
       "      <th></th>\n",
       "      <th></th>\n",
       "      <th></th>\n",
       "      <th></th>\n",
       "      <th></th>\n",
       "    </tr>\n",
       "  </thead>\n",
       "  <tbody>\n",
       "    <tr>\n",
       "      <th>4309</th>\n",
       "      <td>የአረብ ሊግ ጋዜጣዊ መግለጫ   \"የአረብ ሊግ በኢትዮጵያ ፌደራላዊ ሪፐብሊ...</td>\n",
       "      <td>2024-01-03T21:14:33</td>\n",
       "      <td>[]</td>\n",
       "      <td></td>\n",
       "      <td>\"\"\"__</td>\n",
       "    </tr>\n",
       "    <tr>\n",
       "      <th>4310</th>\n",
       "      <td>ራስ ገዟ ሶማሊላንድ የሶማሊያን መንግሥትን አስጠነቀቀች..!!  ከኢትዮጵያ...</td>\n",
       "      <td>2024-01-03T21:30:32</td>\n",
       "      <td>[]</td>\n",
       "      <td></td>\n",
       "      <td>\"\"--\"\"-\"\"\"\"-\"\"-\"\"-\"\"--\"\"ℹ__</td>\n",
       "    </tr>\n",
       "    <tr>\n",
       "      <th>4311</th>\n",
       "      <td>ደብረ ብርሀን‼️  በደብረብርሃን ከተማ ወቅታዊ የፀጥታ ሁኔታን ምክኒያት ...</td>\n",
       "      <td>2024-01-03T21:41:45</td>\n",
       "      <td>[]</td>\n",
       "      <td></td>\n",
       "      <td>__</td>\n",
       "    </tr>\n",
       "    <tr>\n",
       "      <th>4312</th>\n",
       "      <td>ደብረብርሀን‼️  የኢትዮጵያ መከላከያ ሰራዊትና የፋኖ ግጭት በደብረ ብርሀ...</td>\n",
       "      <td>2024-01-04T07:32:55</td>\n",
       "      <td>[]</td>\n",
       "      <td></td>\n",
       "      <td>__</td>\n",
       "    </tr>\n",
       "    <tr>\n",
       "      <th>4313</th>\n",
       "      <td>አሜሪካ ፤ በ 1960 ለተካለለዉ የሶማሊያ ድንበር እዉቅና ሰጣለሁ አለች ...</td>\n",
       "      <td>2024-01-04T11:33:04</td>\n",
       "      <td>[]</td>\n",
       "      <td>👉🏼</td>\n",
       "      <td>__</td>\n",
       "    </tr>\n",
       "  </tbody>\n",
       "</table>\n",
       "</div>"
      ],
      "text/plain": [
       "                                                   text                 date  \\\n",
       "id                                                                             \n",
       "4309  የአረብ ሊግ ጋዜጣዊ መግለጫ   \"የአረብ ሊግ በኢትዮጵያ ፌደራላዊ ሪፐብሊ...  2024-01-03T21:14:33   \n",
       "4310  ራስ ገዟ ሶማሊላንድ የሶማሊያን መንግሥትን አስጠነቀቀች..!!  ከኢትዮጵያ...  2024-01-03T21:30:32   \n",
       "4311  ደብረ ብርሀን‼️  በደብረብርሃን ከተማ ወቅታዊ የፀጥታ ሁኔታን ምክኒያት ...  2024-01-03T21:41:45   \n",
       "4312  ደብረብርሀን‼️  የኢትዮጵያ መከላከያ ሰራዊትና የፋኖ ግጭት በደብረ ብርሀ...  2024-01-04T07:32:55   \n",
       "4313  አሜሪካ ፤ በ 1960 ለተካለለዉ የሶማሊያ ድንበር እዉቅና ሰጣለሁ አለች ...  2024-01-04T11:33:04   \n",
       "\n",
       "     hashtags emojis                      symbols  \n",
       "id                                                 \n",
       "4309       []                               \"\"\"__  \n",
       "4310       []         \"\"--\"\"-\"\"\"\"-\"\"-\"\"-\"\"--\"\"ℹ__  \n",
       "4311       []                                  __  \n",
       "4312       []                                  __  \n",
       "4313       []     👉🏼                           __  "
      ]
     },
     "execution_count": 50,
     "metadata": {},
     "output_type": "execute_result"
    }
   ],
   "source": [
    "df['symbols'] = df['text'].apply(preprocess.extract_symbols)\n",
    "df.tail()"
   ]
  },
  {
   "cell_type": "code",
   "execution_count": 51,
   "metadata": {},
   "outputs": [
    {
     "data": {
      "text/html": [
       "<div>\n",
       "<style scoped>\n",
       "    .dataframe tbody tr th:only-of-type {\n",
       "        vertical-align: middle;\n",
       "    }\n",
       "\n",
       "    .dataframe tbody tr th {\n",
       "        vertical-align: top;\n",
       "    }\n",
       "\n",
       "    .dataframe thead th {\n",
       "        text-align: right;\n",
       "    }\n",
       "</style>\n",
       "<table border=\"1\" class=\"dataframe\">\n",
       "  <thead>\n",
       "    <tr style=\"text-align: right;\">\n",
       "      <th></th>\n",
       "      <th>text</th>\n",
       "      <th>date</th>\n",
       "      <th>hashtags</th>\n",
       "      <th>emojis</th>\n",
       "      <th>symbols</th>\n",
       "    </tr>\n",
       "    <tr>\n",
       "      <th>id</th>\n",
       "      <th></th>\n",
       "      <th></th>\n",
       "      <th></th>\n",
       "      <th></th>\n",
       "      <th></th>\n",
       "    </tr>\n",
       "  </thead>\n",
       "  <tbody>\n",
       "    <tr>\n",
       "      <th>4309</th>\n",
       "      <td>የአረብ ሊግ ጋዜጣዊ መግለጫ    የአረብ ሊግ በኢትዮጵያ ፌደራላዊ ሪፐብሊ...</td>\n",
       "      <td>2024-01-03T21:14:33</td>\n",
       "      <td>[]</td>\n",
       "      <td></td>\n",
       "      <td>\"\"\"__</td>\n",
       "    </tr>\n",
       "    <tr>\n",
       "      <th>4310</th>\n",
       "      <td>ራስ ገዟ ሶማሊላንድ የሶማሊያን መንግሥትን አስጠነቀቀች..!!  ከኢትዮጵያ...</td>\n",
       "      <td>2024-01-03T21:30:32</td>\n",
       "      <td>[]</td>\n",
       "      <td></td>\n",
       "      <td>\"\"--\"\"-\"\"\"\"-\"\"-\"\"-\"\"--\"\"ℹ__</td>\n",
       "    </tr>\n",
       "    <tr>\n",
       "      <th>4311</th>\n",
       "      <td>ደብረ ብርሀን‼️  በደብረብርሃን ከተማ ወቅታዊ የፀጥታ ሁኔታን ምክኒያት ...</td>\n",
       "      <td>2024-01-03T21:41:45</td>\n",
       "      <td>[]</td>\n",
       "      <td></td>\n",
       "      <td>__</td>\n",
       "    </tr>\n",
       "    <tr>\n",
       "      <th>4312</th>\n",
       "      <td>ደብረብርሀን‼️  የኢትዮጵያ መከላከያ ሰራዊትና የፋኖ ግጭት በደብረ ብርሀ...</td>\n",
       "      <td>2024-01-04T07:32:55</td>\n",
       "      <td>[]</td>\n",
       "      <td></td>\n",
       "      <td>__</td>\n",
       "    </tr>\n",
       "    <tr>\n",
       "      <th>4313</th>\n",
       "      <td>አሜሪካ ፤ በ 1960 ለተካለለዉ የሶማሊያ ድንበር እዉቅና ሰጣለሁ አለች ...</td>\n",
       "      <td>2024-01-04T11:33:04</td>\n",
       "      <td>[]</td>\n",
       "      <td>👉🏼</td>\n",
       "      <td>__</td>\n",
       "    </tr>\n",
       "  </tbody>\n",
       "</table>\n",
       "</div>"
      ],
      "text/plain": [
       "                                                   text                 date  \\\n",
       "id                                                                             \n",
       "4309  የአረብ ሊግ ጋዜጣዊ መግለጫ    የአረብ ሊግ በኢትዮጵያ ፌደራላዊ ሪፐብሊ...  2024-01-03T21:14:33   \n",
       "4310  ራስ ገዟ ሶማሊላንድ የሶማሊያን መንግሥትን አስጠነቀቀች..!!  ከኢትዮጵያ...  2024-01-03T21:30:32   \n",
       "4311  ደብረ ብርሀን‼️  በደብረብርሃን ከተማ ወቅታዊ የፀጥታ ሁኔታን ምክኒያት ...  2024-01-03T21:41:45   \n",
       "4312  ደብረብርሀን‼️  የኢትዮጵያ መከላከያ ሰራዊትና የፋኖ ግጭት በደብረ ብርሀ...  2024-01-04T07:32:55   \n",
       "4313  አሜሪካ ፤ በ 1960 ለተካለለዉ የሶማሊያ ድንበር እዉቅና ሰጣለሁ አለች ...  2024-01-04T11:33:04   \n",
       "\n",
       "     hashtags emojis                      symbols  \n",
       "id                                                 \n",
       "4309       []                               \"\"\"__  \n",
       "4310       []         \"\"--\"\"-\"\"\"\"-\"\"-\"\"-\"\"--\"\"ℹ__  \n",
       "4311       []                                  __  \n",
       "4312       []                                  __  \n",
       "4313       []     👉🏼                           __  "
      ]
     },
     "execution_count": 51,
     "metadata": {},
     "output_type": "execute_result"
    }
   ],
   "source": [
    "df['text'] = df['text'].apply(preprocess.remove_symbols)\n",
    "df.tail()"
   ]
  },
  {
   "cell_type": "markdown",
   "metadata": {},
   "source": [
    "#### Extract Links"
   ]
  },
  {
   "cell_type": "code",
   "execution_count": 52,
   "metadata": {},
   "outputs": [
    {
     "data": {
      "text/html": [
       "<div>\n",
       "<style scoped>\n",
       "    .dataframe tbody tr th:only-of-type {\n",
       "        vertical-align: middle;\n",
       "    }\n",
       "\n",
       "    .dataframe tbody tr th {\n",
       "        vertical-align: top;\n",
       "    }\n",
       "\n",
       "    .dataframe thead th {\n",
       "        text-align: right;\n",
       "    }\n",
       "</style>\n",
       "<table border=\"1\" class=\"dataframe\">\n",
       "  <thead>\n",
       "    <tr style=\"text-align: right;\">\n",
       "      <th></th>\n",
       "      <th>text</th>\n",
       "      <th>date</th>\n",
       "      <th>hashtags</th>\n",
       "      <th>emojis</th>\n",
       "      <th>symbols</th>\n",
       "      <th>links</th>\n",
       "    </tr>\n",
       "    <tr>\n",
       "      <th>id</th>\n",
       "      <th></th>\n",
       "      <th></th>\n",
       "      <th></th>\n",
       "      <th></th>\n",
       "      <th></th>\n",
       "      <th></th>\n",
       "    </tr>\n",
       "  </thead>\n",
       "  <tbody>\n",
       "    <tr>\n",
       "      <th>4309</th>\n",
       "      <td>የአረብ ሊግ ጋዜጣዊ መግለጫ    የአረብ ሊግ በኢትዮጵያ ፌደራላዊ ሪፐብሊ...</td>\n",
       "      <td>2024-01-03T21:14:33</td>\n",
       "      <td>[]</td>\n",
       "      <td></td>\n",
       "      <td>\"\"\"__</td>\n",
       "      <td>[]</td>\n",
       "    </tr>\n",
       "    <tr>\n",
       "      <th>4310</th>\n",
       "      <td>ራስ ገዟ ሶማሊላንድ የሶማሊያን መንግሥትን አስጠነቀቀች..!!  ከኢትዮጵያ...</td>\n",
       "      <td>2024-01-03T21:30:32</td>\n",
       "      <td>[]</td>\n",
       "      <td></td>\n",
       "      <td>\"\"--\"\"-\"\"\"\"-\"\"-\"\"-\"\"--\"\"ℹ__</td>\n",
       "      <td>[]</td>\n",
       "    </tr>\n",
       "    <tr>\n",
       "      <th>4311</th>\n",
       "      <td>ደብረ ብርሀን‼️  በደብረብርሃን ከተማ ወቅታዊ የፀጥታ ሁኔታን ምክኒያት ...</td>\n",
       "      <td>2024-01-03T21:41:45</td>\n",
       "      <td>[]</td>\n",
       "      <td></td>\n",
       "      <td>__</td>\n",
       "      <td>[]</td>\n",
       "    </tr>\n",
       "    <tr>\n",
       "      <th>4312</th>\n",
       "      <td>ደብረብርሀን‼️  የኢትዮጵያ መከላከያ ሰራዊትና የፋኖ ግጭት በደብረ ብርሀ...</td>\n",
       "      <td>2024-01-04T07:32:55</td>\n",
       "      <td>[]</td>\n",
       "      <td></td>\n",
       "      <td>__</td>\n",
       "      <td>[]</td>\n",
       "    </tr>\n",
       "    <tr>\n",
       "      <th>4313</th>\n",
       "      <td>አሜሪካ ፤ በ 1960 ለተካለለዉ የሶማሊያ ድንበር እዉቅና ሰጣለሁ አለች ...</td>\n",
       "      <td>2024-01-04T11:33:04</td>\n",
       "      <td>[]</td>\n",
       "      <td>👉🏼</td>\n",
       "      <td>__</td>\n",
       "      <td>[]</td>\n",
       "    </tr>\n",
       "  </tbody>\n",
       "</table>\n",
       "</div>"
      ],
      "text/plain": [
       "                                                   text                 date  \\\n",
       "id                                                                             \n",
       "4309  የአረብ ሊግ ጋዜጣዊ መግለጫ    የአረብ ሊግ በኢትዮጵያ ፌደራላዊ ሪፐብሊ...  2024-01-03T21:14:33   \n",
       "4310  ራስ ገዟ ሶማሊላንድ የሶማሊያን መንግሥትን አስጠነቀቀች..!!  ከኢትዮጵያ...  2024-01-03T21:30:32   \n",
       "4311  ደብረ ብርሀን‼️  በደብረብርሃን ከተማ ወቅታዊ የፀጥታ ሁኔታን ምክኒያት ...  2024-01-03T21:41:45   \n",
       "4312  ደብረብርሀን‼️  የኢትዮጵያ መከላከያ ሰራዊትና የፋኖ ግጭት በደብረ ብርሀ...  2024-01-04T07:32:55   \n",
       "4313  አሜሪካ ፤ በ 1960 ለተካለለዉ የሶማሊያ ድንበር እዉቅና ሰጣለሁ አለች ...  2024-01-04T11:33:04   \n",
       "\n",
       "     hashtags emojis                      symbols links  \n",
       "id                                                       \n",
       "4309       []                               \"\"\"__    []  \n",
       "4310       []         \"\"--\"\"-\"\"\"\"-\"\"-\"\"-\"\"--\"\"ℹ__    []  \n",
       "4311       []                                  __    []  \n",
       "4312       []                                  __    []  \n",
       "4313       []     👉🏼                           __    []  "
      ]
     },
     "execution_count": 52,
     "metadata": {},
     "output_type": "execute_result"
    }
   ],
   "source": [
    "df['links'] = df['text'].apply(preprocess.extract_urls)\n",
    "df.tail()"
   ]
  },
  {
   "cell_type": "markdown",
   "metadata": {},
   "source": [
    "#### Remove links "
   ]
  },
  {
   "cell_type": "code",
   "execution_count": 54,
   "metadata": {},
   "outputs": [
    {
     "data": {
      "text/html": [
       "<div>\n",
       "<style scoped>\n",
       "    .dataframe tbody tr th:only-of-type {\n",
       "        vertical-align: middle;\n",
       "    }\n",
       "\n",
       "    .dataframe tbody tr th {\n",
       "        vertical-align: top;\n",
       "    }\n",
       "\n",
       "    .dataframe thead th {\n",
       "        text-align: right;\n",
       "    }\n",
       "</style>\n",
       "<table border=\"1\" class=\"dataframe\">\n",
       "  <thead>\n",
       "    <tr style=\"text-align: right;\">\n",
       "      <th></th>\n",
       "      <th>text</th>\n",
       "      <th>date</th>\n",
       "      <th>hashtags</th>\n",
       "      <th>emojis</th>\n",
       "      <th>symbols</th>\n",
       "      <th>links</th>\n",
       "    </tr>\n",
       "    <tr>\n",
       "      <th>id</th>\n",
       "      <th></th>\n",
       "      <th></th>\n",
       "      <th></th>\n",
       "      <th></th>\n",
       "      <th></th>\n",
       "      <th></th>\n",
       "    </tr>\n",
       "  </thead>\n",
       "  <tbody>\n",
       "    <tr>\n",
       "      <th>4309</th>\n",
       "      <td>የአረብ ሊግ ጋዜጣዊ መግለጫ    የአረብ ሊግ በኢትዮጵያ ፌደራላዊ ሪፐብሊ...</td>\n",
       "      <td>2024-01-03T21:14:33</td>\n",
       "      <td>[]</td>\n",
       "      <td></td>\n",
       "      <td>\"\"\"__</td>\n",
       "      <td>[]</td>\n",
       "    </tr>\n",
       "    <tr>\n",
       "      <th>4310</th>\n",
       "      <td>ራስ ገዟ ሶማሊላንድ የሶማሊያን መንግሥትን አስጠነቀቀች..!!  ከኢትዮጵያ...</td>\n",
       "      <td>2024-01-03T21:30:32</td>\n",
       "      <td>[]</td>\n",
       "      <td></td>\n",
       "      <td>\"\"--\"\"-\"\"\"\"-\"\"-\"\"-\"\"--\"\"ℹ__</td>\n",
       "      <td>[]</td>\n",
       "    </tr>\n",
       "    <tr>\n",
       "      <th>4311</th>\n",
       "      <td>ደብረ ብርሀን‼️  በደብረብርሃን ከተማ ወቅታዊ የፀጥታ ሁኔታን ምክኒያት ...</td>\n",
       "      <td>2024-01-03T21:41:45</td>\n",
       "      <td>[]</td>\n",
       "      <td></td>\n",
       "      <td>__</td>\n",
       "      <td>[]</td>\n",
       "    </tr>\n",
       "    <tr>\n",
       "      <th>4312</th>\n",
       "      <td>ደብረብርሀን‼️  የኢትዮጵያ መከላከያ ሰራዊትና የፋኖ ግጭት በደብረ ብርሀ...</td>\n",
       "      <td>2024-01-04T07:32:55</td>\n",
       "      <td>[]</td>\n",
       "      <td></td>\n",
       "      <td>__</td>\n",
       "      <td>[]</td>\n",
       "    </tr>\n",
       "    <tr>\n",
       "      <th>4313</th>\n",
       "      <td>አሜሪካ ፤ በ 1960 ለተካለለዉ የሶማሊያ ድንበር እዉቅና ሰጣለሁ አለች ...</td>\n",
       "      <td>2024-01-04T11:33:04</td>\n",
       "      <td>[]</td>\n",
       "      <td>👉🏼</td>\n",
       "      <td>__</td>\n",
       "      <td>[]</td>\n",
       "    </tr>\n",
       "  </tbody>\n",
       "</table>\n",
       "</div>"
      ],
      "text/plain": [
       "                                                   text                 date  \\\n",
       "id                                                                             \n",
       "4309  የአረብ ሊግ ጋዜጣዊ መግለጫ    የአረብ ሊግ በኢትዮጵያ ፌደራላዊ ሪፐብሊ...  2024-01-03T21:14:33   \n",
       "4310  ራስ ገዟ ሶማሊላንድ የሶማሊያን መንግሥትን አስጠነቀቀች..!!  ከኢትዮጵያ...  2024-01-03T21:30:32   \n",
       "4311  ደብረ ብርሀን‼️  በደብረብርሃን ከተማ ወቅታዊ የፀጥታ ሁኔታን ምክኒያት ...  2024-01-03T21:41:45   \n",
       "4312  ደብረብርሀን‼️  የኢትዮጵያ መከላከያ ሰራዊትና የፋኖ ግጭት በደብረ ብርሀ...  2024-01-04T07:32:55   \n",
       "4313  አሜሪካ ፤ በ 1960 ለተካለለዉ የሶማሊያ ድንበር እዉቅና ሰጣለሁ አለች ...  2024-01-04T11:33:04   \n",
       "\n",
       "     hashtags emojis                      symbols links  \n",
       "id                                                       \n",
       "4309       []                               \"\"\"__    []  \n",
       "4310       []         \"\"--\"\"-\"\"\"\"-\"\"-\"\"-\"\"--\"\"ℹ__    []  \n",
       "4311       []                                  __    []  \n",
       "4312       []                                  __    []  \n",
       "4313       []     👉🏼                           __    []  "
      ]
     },
     "execution_count": 54,
     "metadata": {},
     "output_type": "execute_result"
    }
   ],
   "source": [
    "df['text'] = df['text'].str.replace(preprocess.url_pattern, '', regex=True).str.strip()\n",
    "df.tail()"
   ]
  },
  {
   "cell_type": "markdown",
   "metadata": {},
   "source": [
    "#### Extract mentions"
   ]
  },
  {
   "cell_type": "code",
   "execution_count": 56,
   "metadata": {},
   "outputs": [
    {
     "data": {
      "text/html": [
       "<div>\n",
       "<style scoped>\n",
       "    .dataframe tbody tr th:only-of-type {\n",
       "        vertical-align: middle;\n",
       "    }\n",
       "\n",
       "    .dataframe tbody tr th {\n",
       "        vertical-align: top;\n",
       "    }\n",
       "\n",
       "    .dataframe thead th {\n",
       "        text-align: right;\n",
       "    }\n",
       "</style>\n",
       "<table border=\"1\" class=\"dataframe\">\n",
       "  <thead>\n",
       "    <tr style=\"text-align: right;\">\n",
       "      <th></th>\n",
       "      <th>text</th>\n",
       "      <th>date</th>\n",
       "      <th>hashtags</th>\n",
       "      <th>emojis</th>\n",
       "      <th>symbols</th>\n",
       "      <th>links</th>\n",
       "      <th>mentions</th>\n",
       "    </tr>\n",
       "    <tr>\n",
       "      <th>id</th>\n",
       "      <th></th>\n",
       "      <th></th>\n",
       "      <th></th>\n",
       "      <th></th>\n",
       "      <th></th>\n",
       "      <th></th>\n",
       "      <th></th>\n",
       "    </tr>\n",
       "  </thead>\n",
       "  <tbody>\n",
       "    <tr>\n",
       "      <th>4309</th>\n",
       "      <td>የአረብ ሊግ ጋዜጣዊ መግለጫ    የአረብ ሊግ በኢትዮጵያ ፌደራላዊ ሪፐብሊ...</td>\n",
       "      <td>2024-01-03T21:14:33</td>\n",
       "      <td>[]</td>\n",
       "      <td></td>\n",
       "      <td>\"\"\"__</td>\n",
       "      <td>[]</td>\n",
       "      <td>[sheger, sheger]</td>\n",
       "    </tr>\n",
       "    <tr>\n",
       "      <th>4310</th>\n",
       "      <td>ራስ ገዟ ሶማሊላንድ የሶማሊያን መንግሥትን አስጠነቀቀች..!!  ከኢትዮጵያ...</td>\n",
       "      <td>2024-01-03T21:30:32</td>\n",
       "      <td>[]</td>\n",
       "      <td></td>\n",
       "      <td>\"\"--\"\"-\"\"\"\"-\"\"-\"\"-\"\"--\"\"ℹ__</td>\n",
       "      <td>[]</td>\n",
       "      <td>[sheger, sheger]</td>\n",
       "    </tr>\n",
       "    <tr>\n",
       "      <th>4311</th>\n",
       "      <td>ደብረ ብርሀን‼️  በደብረብርሃን ከተማ ወቅታዊ የፀጥታ ሁኔታን ምክኒያት ...</td>\n",
       "      <td>2024-01-03T21:41:45</td>\n",
       "      <td>[]</td>\n",
       "      <td></td>\n",
       "      <td>__</td>\n",
       "      <td>[]</td>\n",
       "      <td>[sheger, sheger]</td>\n",
       "    </tr>\n",
       "    <tr>\n",
       "      <th>4312</th>\n",
       "      <td>ደብረብርሀን‼️  የኢትዮጵያ መከላከያ ሰራዊትና የፋኖ ግጭት በደብረ ብርሀ...</td>\n",
       "      <td>2024-01-04T07:32:55</td>\n",
       "      <td>[]</td>\n",
       "      <td></td>\n",
       "      <td>__</td>\n",
       "      <td>[]</td>\n",
       "      <td>[sheger, sheger]</td>\n",
       "    </tr>\n",
       "    <tr>\n",
       "      <th>4313</th>\n",
       "      <td>አሜሪካ ፤ በ 1960 ለተካለለዉ የሶማሊያ ድንበር እዉቅና ሰጣለሁ አለች ...</td>\n",
       "      <td>2024-01-04T11:33:04</td>\n",
       "      <td>[]</td>\n",
       "      <td>👉🏼</td>\n",
       "      <td>__</td>\n",
       "      <td>[]</td>\n",
       "      <td>[sheger, sheger]</td>\n",
       "    </tr>\n",
       "  </tbody>\n",
       "</table>\n",
       "</div>"
      ],
      "text/plain": [
       "                                                   text                 date  \\\n",
       "id                                                                             \n",
       "4309  የአረብ ሊግ ጋዜጣዊ መግለጫ    የአረብ ሊግ በኢትዮጵያ ፌደራላዊ ሪፐብሊ...  2024-01-03T21:14:33   \n",
       "4310  ራስ ገዟ ሶማሊላንድ የሶማሊያን መንግሥትን አስጠነቀቀች..!!  ከኢትዮጵያ...  2024-01-03T21:30:32   \n",
       "4311  ደብረ ብርሀን‼️  በደብረብርሃን ከተማ ወቅታዊ የፀጥታ ሁኔታን ምክኒያት ...  2024-01-03T21:41:45   \n",
       "4312  ደብረብርሀን‼️  የኢትዮጵያ መከላከያ ሰራዊትና የፋኖ ግጭት በደብረ ብርሀ...  2024-01-04T07:32:55   \n",
       "4313  አሜሪካ ፤ በ 1960 ለተካለለዉ የሶማሊያ ድንበር እዉቅና ሰጣለሁ አለች ...  2024-01-04T11:33:04   \n",
       "\n",
       "     hashtags emojis                      symbols links          mentions  \n",
       "id                                                                         \n",
       "4309       []                               \"\"\"__    []  [sheger, sheger]  \n",
       "4310       []         \"\"--\"\"-\"\"\"\"-\"\"-\"\"-\"\"--\"\"ℹ__    []  [sheger, sheger]  \n",
       "4311       []                                  __    []  [sheger, sheger]  \n",
       "4312       []                                  __    []  [sheger, sheger]  \n",
       "4313       []     👉🏼                           __    []  [sheger, sheger]  "
      ]
     },
     "execution_count": 56,
     "metadata": {},
     "output_type": "execute_result"
    }
   ],
   "source": [
    "df['mentions'] = df['text'].apply(preprocess.extract_mentions)\n",
    "df.tail()"
   ]
  },
  {
   "cell_type": "code",
   "execution_count": 58,
   "metadata": {},
   "outputs": [
    {
     "data": {
      "text/html": [
       "<div>\n",
       "<style scoped>\n",
       "    .dataframe tbody tr th:only-of-type {\n",
       "        vertical-align: middle;\n",
       "    }\n",
       "\n",
       "    .dataframe tbody tr th {\n",
       "        vertical-align: top;\n",
       "    }\n",
       "\n",
       "    .dataframe thead th {\n",
       "        text-align: right;\n",
       "    }\n",
       "</style>\n",
       "<table border=\"1\" class=\"dataframe\">\n",
       "  <thead>\n",
       "    <tr style=\"text-align: right;\">\n",
       "      <th></th>\n",
       "      <th>text</th>\n",
       "      <th>date</th>\n",
       "      <th>hashtags</th>\n",
       "      <th>emojis</th>\n",
       "      <th>symbols</th>\n",
       "      <th>links</th>\n",
       "      <th>mentions</th>\n",
       "    </tr>\n",
       "    <tr>\n",
       "      <th>id</th>\n",
       "      <th></th>\n",
       "      <th></th>\n",
       "      <th></th>\n",
       "      <th></th>\n",
       "      <th></th>\n",
       "      <th></th>\n",
       "      <th></th>\n",
       "    </tr>\n",
       "  </thead>\n",
       "  <tbody>\n",
       "    <tr>\n",
       "      <th>4309</th>\n",
       "      <td>የአረብ ሊግ ጋዜጣዊ መግለጫ    የአረብ ሊግ በኢትዮጵያ ፌደራላዊ ሪፐብሊ...</td>\n",
       "      <td>2024-01-03T21:14:33</td>\n",
       "      <td>[]</td>\n",
       "      <td></td>\n",
       "      <td>\"\"\"__</td>\n",
       "      <td>[]</td>\n",
       "      <td>[sheger, sheger]</td>\n",
       "    </tr>\n",
       "    <tr>\n",
       "      <th>4310</th>\n",
       "      <td>ራስ ገዟ ሶማሊላንድ የሶማሊያን መንግሥትን አስጠነቀቀች..!!  ከኢትዮጵያ...</td>\n",
       "      <td>2024-01-03T21:30:32</td>\n",
       "      <td>[]</td>\n",
       "      <td></td>\n",
       "      <td>\"\"--\"\"-\"\"\"\"-\"\"-\"\"-\"\"--\"\"ℹ__</td>\n",
       "      <td>[]</td>\n",
       "      <td>[sheger, sheger]</td>\n",
       "    </tr>\n",
       "    <tr>\n",
       "      <th>4311</th>\n",
       "      <td>ደብረ ብርሀን‼️  በደብረብርሃን ከተማ ወቅታዊ የፀጥታ ሁኔታን ምክኒያት ...</td>\n",
       "      <td>2024-01-03T21:41:45</td>\n",
       "      <td>[]</td>\n",
       "      <td></td>\n",
       "      <td>__</td>\n",
       "      <td>[]</td>\n",
       "      <td>[sheger, sheger]</td>\n",
       "    </tr>\n",
       "    <tr>\n",
       "      <th>4312</th>\n",
       "      <td>ደብረብርሀን‼️  የኢትዮጵያ መከላከያ ሰራዊትና የፋኖ ግጭት በደብረ ብርሀ...</td>\n",
       "      <td>2024-01-04T07:32:55</td>\n",
       "      <td>[]</td>\n",
       "      <td></td>\n",
       "      <td>__</td>\n",
       "      <td>[]</td>\n",
       "      <td>[sheger, sheger]</td>\n",
       "    </tr>\n",
       "    <tr>\n",
       "      <th>4313</th>\n",
       "      <td>አሜሪካ ፤ በ 1960 ለተካለለዉ የሶማሊያ ድንበር እዉቅና ሰጣለሁ አለች ...</td>\n",
       "      <td>2024-01-04T11:33:04</td>\n",
       "      <td>[]</td>\n",
       "      <td>👉🏼</td>\n",
       "      <td>__</td>\n",
       "      <td>[]</td>\n",
       "      <td>[sheger, sheger]</td>\n",
       "    </tr>\n",
       "  </tbody>\n",
       "</table>\n",
       "</div>"
      ],
      "text/plain": [
       "                                                   text                 date  \\\n",
       "id                                                                             \n",
       "4309  የአረብ ሊግ ጋዜጣዊ መግለጫ    የአረብ ሊግ በኢትዮጵያ ፌደራላዊ ሪፐብሊ...  2024-01-03T21:14:33   \n",
       "4310  ራስ ገዟ ሶማሊላንድ የሶማሊያን መንግሥትን አስጠነቀቀች..!!  ከኢትዮጵያ...  2024-01-03T21:30:32   \n",
       "4311  ደብረ ብርሀን‼️  በደብረብርሃን ከተማ ወቅታዊ የፀጥታ ሁኔታን ምክኒያት ...  2024-01-03T21:41:45   \n",
       "4312  ደብረብርሀን‼️  የኢትዮጵያ መከላከያ ሰራዊትና የፋኖ ግጭት በደብረ ብርሀ...  2024-01-04T07:32:55   \n",
       "4313  አሜሪካ ፤ በ 1960 ለተካለለዉ የሶማሊያ ድንበር እዉቅና ሰጣለሁ አለች ...  2024-01-04T11:33:04   \n",
       "\n",
       "     hashtags emojis                      symbols links          mentions  \n",
       "id                                                                         \n",
       "4309       []                               \"\"\"__    []  [sheger, sheger]  \n",
       "4310       []         \"\"--\"\"-\"\"\"\"-\"\"-\"\"-\"\"--\"\"ℹ__    []  [sheger, sheger]  \n",
       "4311       []                                  __    []  [sheger, sheger]  \n",
       "4312       []                                  __    []  [sheger, sheger]  \n",
       "4313       []     👉🏼                           __    []  [sheger, sheger]  "
      ]
     },
     "execution_count": 58,
     "metadata": {},
     "output_type": "execute_result"
    }
   ],
   "source": [
    "df['text'] = df['text'].str.replace(preprocess.mention_pattern, '', regex=True).str.strip()\n",
    "df.tail()"
   ]
  },
  {
   "cell_type": "markdown",
   "metadata": {},
   "source": [
    "#### Remove extra spaces"
   ]
  },
  {
   "cell_type": "code",
   "execution_count": 59,
   "metadata": {},
   "outputs": [],
   "source": [
    "df['text'] = df['text'].str.replace('\\s+', ' ', regex=True).str.strip()"
   ]
  },
  {
   "cell_type": "code",
   "execution_count": 60,
   "metadata": {},
   "outputs": [],
   "source": [
    "df['text'] = df['text'].replace(r'!+', '!', regex=True)\n",
    "df['text'] = df['text'].replace(r'\\.+', '', regex=True)"
   ]
  },
  {
   "cell_type": "code",
   "execution_count": 61,
   "metadata": {},
   "outputs": [
    {
     "data": {
      "text/html": [
       "<div>\n",
       "<style scoped>\n",
       "    .dataframe tbody tr th:only-of-type {\n",
       "        vertical-align: middle;\n",
       "    }\n",
       "\n",
       "    .dataframe tbody tr th {\n",
       "        vertical-align: top;\n",
       "    }\n",
       "\n",
       "    .dataframe thead th {\n",
       "        text-align: right;\n",
       "    }\n",
       "</style>\n",
       "<table border=\"1\" class=\"dataframe\">\n",
       "  <thead>\n",
       "    <tr style=\"text-align: right;\">\n",
       "      <th></th>\n",
       "      <th>text</th>\n",
       "      <th>date</th>\n",
       "      <th>hashtags</th>\n",
       "      <th>emojis</th>\n",
       "      <th>symbols</th>\n",
       "      <th>links</th>\n",
       "      <th>mentions</th>\n",
       "    </tr>\n",
       "    <tr>\n",
       "      <th>id</th>\n",
       "      <th></th>\n",
       "      <th></th>\n",
       "      <th></th>\n",
       "      <th></th>\n",
       "      <th></th>\n",
       "      <th></th>\n",
       "      <th></th>\n",
       "    </tr>\n",
       "  </thead>\n",
       "  <tbody>\n",
       "    <tr>\n",
       "      <th>4309</th>\n",
       "      <td>የአረብ ሊግ ጋዜጣዊ መግለጫ የአረብ ሊግ በኢትዮጵያ ፌደራላዊ ሪፐብሊክ እ...</td>\n",
       "      <td>2024-01-03T21:14:33</td>\n",
       "      <td>[]</td>\n",
       "      <td></td>\n",
       "      <td>\"\"\"__</td>\n",
       "      <td>[]</td>\n",
       "      <td>[sheger, sheger]</td>\n",
       "    </tr>\n",
       "    <tr>\n",
       "      <th>4310</th>\n",
       "      <td>ራስ ገዟ ሶማሊላንድ የሶማሊያን መንግሥትን አስጠነቀቀች! ከኢትዮጵያ ጋር ...</td>\n",
       "      <td>2024-01-03T21:30:32</td>\n",
       "      <td>[]</td>\n",
       "      <td></td>\n",
       "      <td>\"\"--\"\"-\"\"\"\"-\"\"-\"\"-\"\"--\"\"ℹ__</td>\n",
       "      <td>[]</td>\n",
       "      <td>[sheger, sheger]</td>\n",
       "    </tr>\n",
       "    <tr>\n",
       "      <th>4311</th>\n",
       "      <td>ደብረ ብርሀን‼️ በደብረብርሃን ከተማ ወቅታዊ የፀጥታ ሁኔታን ምክኒያት በ...</td>\n",
       "      <td>2024-01-03T21:41:45</td>\n",
       "      <td>[]</td>\n",
       "      <td></td>\n",
       "      <td>__</td>\n",
       "      <td>[]</td>\n",
       "      <td>[sheger, sheger]</td>\n",
       "    </tr>\n",
       "    <tr>\n",
       "      <th>4312</th>\n",
       "      <td>ደብረብርሀን‼️ የኢትዮጵያ መከላከያ ሰራዊትና የፋኖ ግጭት በደብረ ብርሀን...</td>\n",
       "      <td>2024-01-04T07:32:55</td>\n",
       "      <td>[]</td>\n",
       "      <td></td>\n",
       "      <td>__</td>\n",
       "      <td>[]</td>\n",
       "      <td>[sheger, sheger]</td>\n",
       "    </tr>\n",
       "    <tr>\n",
       "      <th>4313</th>\n",
       "      <td>አሜሪካ ፤ በ 1960 ለተካለለዉ የሶማሊያ ድንበር እዉቅና ሰጣለሁ አለች ...</td>\n",
       "      <td>2024-01-04T11:33:04</td>\n",
       "      <td>[]</td>\n",
       "      <td>👉🏼</td>\n",
       "      <td>__</td>\n",
       "      <td>[]</td>\n",
       "      <td>[sheger, sheger]</td>\n",
       "    </tr>\n",
       "  </tbody>\n",
       "</table>\n",
       "</div>"
      ],
      "text/plain": [
       "                                                   text                 date  \\\n",
       "id                                                                             \n",
       "4309  የአረብ ሊግ ጋዜጣዊ መግለጫ የአረብ ሊግ በኢትዮጵያ ፌደራላዊ ሪፐብሊክ እ...  2024-01-03T21:14:33   \n",
       "4310  ራስ ገዟ ሶማሊላንድ የሶማሊያን መንግሥትን አስጠነቀቀች! ከኢትዮጵያ ጋር ...  2024-01-03T21:30:32   \n",
       "4311  ደብረ ብርሀን‼️ በደብረብርሃን ከተማ ወቅታዊ የፀጥታ ሁኔታን ምክኒያት በ...  2024-01-03T21:41:45   \n",
       "4312  ደብረብርሀን‼️ የኢትዮጵያ መከላከያ ሰራዊትና የፋኖ ግጭት በደብረ ብርሀን...  2024-01-04T07:32:55   \n",
       "4313  አሜሪካ ፤ በ 1960 ለተካለለዉ የሶማሊያ ድንበር እዉቅና ሰጣለሁ አለች ...  2024-01-04T11:33:04   \n",
       "\n",
       "     hashtags emojis                      symbols links          mentions  \n",
       "id                                                                         \n",
       "4309       []                               \"\"\"__    []  [sheger, sheger]  \n",
       "4310       []         \"\"--\"\"-\"\"\"\"-\"\"-\"\"-\"\"--\"\"ℹ__    []  [sheger, sheger]  \n",
       "4311       []                                  __    []  [sheger, sheger]  \n",
       "4312       []                                  __    []  [sheger, sheger]  \n",
       "4313       []     👉🏼                           __    []  [sheger, sheger]  "
      ]
     },
     "execution_count": 61,
     "metadata": {},
     "output_type": "execute_result"
    }
   ],
   "source": [
    "df.tail()"
   ]
  },
  {
   "cell_type": "markdown",
   "metadata": {},
   "source": [
    "#### Save cleaned dataframe"
   ]
  },
  {
   "cell_type": "code",
   "execution_count": 62,
   "metadata": {},
   "outputs": [],
   "source": [
    "df.to_csv(f\"{cleaned_dir}/{file_name}.csv\")"
   ]
  },
  {
   "cell_type": "markdown",
   "metadata": {},
   "source": [
    "#### Save to .txt file"
   ]
  },
  {
   "cell_type": "code",
   "execution_count": 63,
   "metadata": {},
   "outputs": [],
   "source": [
    "df['text'].to_csv(f\"{cleaned_dir}/{file_name}.txt\", index=False, header=False)"
   ]
  },
  {
   "cell_type": "code",
   "execution_count": null,
   "metadata": {},
   "outputs": [],
   "source": []
  }
 ],
 "metadata": {
  "kernelspec": {
   "display_name": "venv",
   "language": "python",
   "name": "python3"
  },
  "language_info": {
   "codemirror_mode": {
    "name": "ipython",
    "version": 3
   },
   "file_extension": ".py",
   "mimetype": "text/x-python",
   "name": "python",
   "nbconvert_exporter": "python",
   "pygments_lexer": "ipython3",
   "version": "3.10.13"
  }
 },
 "nbformat": 4,
 "nbformat_minor": 2
}
