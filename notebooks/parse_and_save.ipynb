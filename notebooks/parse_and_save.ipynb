{
 "cells": [
  {
   "cell_type": "markdown",
   "metadata": {},
   "source": [
    "### Parse important information from initial raw file convert and save it to parsed dir as dataframe"
   ]
  },
  {
   "cell_type": "markdown",
   "metadata": {},
   "source": [
    "#### Import modules"
   ]
  },
  {
   "cell_type": "code",
   "execution_count": 2,
   "metadata": {},
   "outputs": [],
   "source": [
    "import sys, os\n",
    "import pandas as pd\n",
    "sys.path.append(os.path.abspath(os.path.join('..')))\n",
    "from utils.preprocessing import MyPreprocessing"
   ]
  },
  {
   "cell_type": "markdown",
   "metadata": {},
   "source": [
    "#### Init Variables"
   ]
  },
  {
   "cell_type": "code",
   "execution_count": 3,
   "metadata": {},
   "outputs": [],
   "source": [
    "raw_dir = \"../data/raw\"\n",
    "parsed_dir = \"../data/parsed\"\n",
    "file_name = \"TIKVAH\"\n",
    "preprocess = MyPreprocessing()"
   ]
  },
  {
   "cell_type": "markdown",
   "metadata": {},
   "source": [
    "#### Read File"
   ]
  },
  {
   "cell_type": "code",
   "execution_count": 4,
   "metadata": {},
   "outputs": [],
   "source": [
    "data = preprocess.read_file(f'{raw_dir}/{file_name}.json')"
   ]
  },
  {
   "cell_type": "code",
   "execution_count": 5,
   "metadata": {},
   "outputs": [],
   "source": [
    "parsed_message = preprocess.parse_messages(data['messages'])\n",
    "# parsed_message"
   ]
  },
  {
   "cell_type": "markdown",
   "metadata": {},
   "source": [
    "#### Create pandas dataframe from parsed messages"
   ]
  },
  {
   "cell_type": "code",
   "execution_count": 6,
   "metadata": {},
   "outputs": [
    {
     "data": {
      "text/html": [
       "<div>\n",
       "<style scoped>\n",
       "    .dataframe tbody tr th:only-of-type {\n",
       "        vertical-align: middle;\n",
       "    }\n",
       "\n",
       "    .dataframe tbody tr th {\n",
       "        vertical-align: top;\n",
       "    }\n",
       "\n",
       "    .dataframe thead th {\n",
       "        text-align: right;\n",
       "    }\n",
       "</style>\n",
       "<table border=\"1\" class=\"dataframe\">\n",
       "  <thead>\n",
       "    <tr style=\"text-align: right;\">\n",
       "      <th></th>\n",
       "      <th>text</th>\n",
       "      <th>date</th>\n",
       "    </tr>\n",
       "    <tr>\n",
       "      <th>id</th>\n",
       "      <th></th>\n",
       "      <th></th>\n",
       "    </tr>\n",
       "  </thead>\n",
       "  <tbody>\n",
       "    <tr>\n",
       "      <th>3</th>\n",
       "      <td>አንድ ላይ ተጋግዘን ትልቅ መወያያ መድረክ እንፍጠር ስለምታደርጉልኝ ድጋፍ...</td>\n",
       "      <td>2021-12-30T22:02:03</td>\n",
       "    </tr>\n",
       "    <tr>\n",
       "      <th>14</th>\n",
       "      <td>መረጃ❗️❗️❗️\\n\\nየህወሃት ጦር ከመቀሌ ወደ አፋር አብዓላ የሚወስደውን...</td>\n",
       "      <td>2022-05-03T14:31:44</td>\n",
       "    </tr>\n",
       "    <tr>\n",
       "      <th>15</th>\n",
       "      <td>አዲስ መረጃ የጠ/ሩ የምሳ ግብዣ እንዴት አለፈ⁉️\\n\\nብፁዑ ወቅዱስ አቡ...</td>\n",
       "      <td>2022-05-03T15:25:59</td>\n",
       "    </tr>\n",
       "    <tr>\n",
       "      <th>16</th>\n",
       "      <td>ልዩ መረጃ‼️\\n\\n# የኦሮሚያ ልዩ ኃይል እና ሸኔ በምዕራብ ሸዋ በአማሮ...</td>\n",
       "      <td>2022-05-03T15:44:43</td>\n",
       "    </tr>\n",
       "    <tr>\n",
       "      <th>17</th>\n",
       "      <td>NEWSALERT‼️\\n\\nከቀናት በፊት ደሴ ላይ ቤተከርስቲያን አፍርሰን መ...</td>\n",
       "      <td>2022-05-03T17:07:43</td>\n",
       "    </tr>\n",
       "  </tbody>\n",
       "</table>\n",
       "</div>"
      ],
      "text/plain": [
       "                                                 text                 date\n",
       "id                                                                        \n",
       "3   አንድ ላይ ተጋግዘን ትልቅ መወያያ መድረክ እንፍጠር ስለምታደርጉልኝ ድጋፍ...  2021-12-30T22:02:03\n",
       "14  መረጃ❗️❗️❗️\\n\\nየህወሃት ጦር ከመቀሌ ወደ አፋር አብዓላ የሚወስደውን...  2022-05-03T14:31:44\n",
       "15  አዲስ መረጃ የጠ/ሩ የምሳ ግብዣ እንዴት አለፈ⁉️\\n\\nብፁዑ ወቅዱስ አቡ...  2022-05-03T15:25:59\n",
       "16  ልዩ መረጃ‼️\\n\\n# የኦሮሚያ ልዩ ኃይል እና ሸኔ በምዕራብ ሸዋ በአማሮ...  2022-05-03T15:44:43\n",
       "17  NEWSALERT‼️\\n\\nከቀናት በፊት ደሴ ላይ ቤተከርስቲያን አፍርሰን መ...  2022-05-03T17:07:43"
      ]
     },
     "execution_count": 6,
     "metadata": {},
     "output_type": "execute_result"
    }
   ],
   "source": [
    "# Convert the dictionary to a Pandas DataFrame\n",
    "df = pd.DataFrame(parsed_message)\n",
    "df.set_index('id', inplace=True)\n",
    "df.head()"
   ]
  },
  {
   "cell_type": "code",
   "execution_count": 7,
   "metadata": {},
   "outputs": [
    {
     "data": {
      "text/plain": [
       "(3369, 2)"
      ]
     },
     "execution_count": 7,
     "metadata": {},
     "output_type": "execute_result"
    }
   ],
   "source": [
    "df.shape"
   ]
  },
  {
   "cell_type": "markdown",
   "metadata": {},
   "source": [
    "#### Save"
   ]
  },
  {
   "cell_type": "code",
   "execution_count": 8,
   "metadata": {},
   "outputs": [],
   "source": [
    "df.to_csv(f'{parsed_dir}/{file_name}.csv')"
   ]
  },
  {
   "cell_type": "code",
   "execution_count": null,
   "metadata": {},
   "outputs": [],
   "source": []
  }
 ],
 "metadata": {
  "kernelspec": {
   "display_name": "venv",
   "language": "python",
   "name": "python3"
  },
  "language_info": {
   "codemirror_mode": {
    "name": "ipython",
    "version": 3
   },
   "file_extension": ".py",
   "mimetype": "text/x-python",
   "name": "python",
   "nbconvert_exporter": "python",
   "pygments_lexer": "ipython3",
   "version": "3.10.13"
  }
 },
 "nbformat": 4,
 "nbformat_minor": 2
}
